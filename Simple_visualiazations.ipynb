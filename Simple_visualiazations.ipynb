{
 "cells": [
  {
   "cell_type": "code",
   "execution_count": null,
   "metadata": {},
   "outputs": [],
   "source": [
    "import pandas as pd\n",
    "import pandas.io.sql as sqlio\n",
    "import psycopg2\n",
    "import matplotlib.pyplot as plt\n",
    "import seaborn as sns\n",
    "sns.set(font_scale=1.5, style=\"whitegrid\")\n",
    "from matplotlib.ticker import (MultipleLocator, FormatStrFormatter,AutoMinorLocator)\n",
    "from matplotlib.dates import DateFormatter\n",
    "import matplotlib.dates as mdates\n",
    "import numpy as np\n",
    "from connector import getConnection"
   ]
  },
  {
   "cell_type": "markdown",
   "metadata": {},
   "source": [
    "### Mean  index rate (monthly basis)"
   ]
  },
  {
   "cell_type": "code",
   "execution_count": null,
   "metadata": {},
   "outputs": [],
   "source": [
    "conn = getConnection()\n",
    "\n",
    "sql = \"\"\"\n",
    "SELECT d.date ,AVG(s.index_rate) as avg_index_rate  FROM sale s, date d\n",
    "WHERE s.sale_date_key = d.date_key \n",
    "GROUP BY d.date\n",
    "HAVING AVG(s.index_rate) IS NOT NULL\n",
    "ORDER BY d.date\n",
    "\"\"\"\n",
    "\n",
    "df = sqlio.read_sql_query(sql, conn)\n",
    "\n",
    "\n",
    "conn.close()\n",
    "df.head()\n",
    "df.plot(kind='line',x='date',y='avg_index_rate',figsize=(15,10))\n",
    "\n"
   ]
  },
  {
   "cell_type": "markdown",
   "metadata": {},
   "source": [
    "### distribution of loans on maritial status"
   ]
  },
  {
   "cell_type": "code",
   "execution_count": null,
   "metadata": {
    "scrolled": false
   },
   "outputs": [],
   "source": [
    "conn = getConnection()\n",
    "\n",
    "sql = \"\"\"\n",
    "SELECT c.marital_status , SUM(s.loan_amount) as loan_amount  FROM sale s, customer c\n",
    "WHERE s.customer_key = c.customer_key\n",
    "GROUP BY c.marital_status\n",
    "\"\"\"\n",
    "\n",
    "df = sqlio.read_sql_query(sql, conn)\n",
    "\n",
    "df = df.set_index('marital_status')\n",
    "df = df.transpose()\n",
    "\n",
    "df.plot.bar(stacked=True,figsize=(15,10), rot = 0)\n",
    "conn.close()\n",
    "df.head()\n",
    "\n"
   ]
  },
  {
   "cell_type": "markdown",
   "metadata": {},
   "source": [
    "### Distribution of loans by age"
   ]
  },
  {
   "cell_type": "code",
   "execution_count": null,
   "metadata": {},
   "outputs": [],
   "source": [
    "conn = getConnection()\n",
    "\n",
    "sql = \"\"\"\n",
    "SELECT (2020 - c.birth_year) as age ,SUM( s.loan_amount)as loan_amount\n",
    "FROM sale s, customer c\n",
    "WHERE s.customer_key = c.customer_key\n",
    "GROUP BY AGE\n",
    "\"\"\"\n",
    "\n",
    "df = sqlio.read_sql_query(sql, conn)\n",
    "bins = pd.cut(df['age'], [10, 20, 30,40,50,60,70,80])\n",
    "df = df.groupby(bins)['loan_amount'].agg(['sum'])\n",
    "conn.close()\n",
    "df.head()\n",
    "df.plot.bar(figsize=(15,10), rot = 0)\n",
    "\n"
   ]
  },
  {
   "cell_type": "markdown",
   "metadata": {},
   "source": [
    "### Distribution by job"
   ]
  },
  {
   "cell_type": "code",
   "execution_count": null,
   "metadata": {},
   "outputs": [],
   "source": [
    "conn = getConnection()\n",
    "\n",
    "sql = \"\"\"\n",
    "SELECT c.job ,SUM( s.loan_amount)as loan_amount\n",
    "FROM sale s, customer c\n",
    "WHERE s.customer_key = c.customer_key\n",
    "GROUP BY c.job\n",
    "ORDER BY loan_amount\n",
    "\"\"\"\n",
    "\n",
    "df = sqlio.read_sql_query(sql, conn)\n",
    "#bins = pd.cut(df['age'], [0, 20, 40, 60,80])\n",
    "#df = df.groupby(bins)['loan_amount'].agg(['sum'])\n",
    "df = df.set_index('job')\n",
    "conn.close()\n",
    "df.head()\n",
    "df.plot.barh(figsize=(15,10), rot = 0)"
   ]
  },
  {
   "cell_type": "markdown",
   "metadata": {},
   "source": [
    "### number of customer with  loan"
   ]
  },
  {
   "cell_type": "code",
   "execution_count": null,
   "metadata": {},
   "outputs": [],
   "source": [
    "conn = getConnection()\n",
    "\n",
    "sql = \"\"\"\n",
    "select num_loans.n_loans, count(*)\n",
    "from\n",
    "(SELECT c.customer_key ,COUNT( s.loan_amount)as n_loans\n",
    "FROM customer c left outer join sale s on  s.customer_key = c.customer_key\n",
    "GROUP BY c.customer_key\n",
    "ORDER BY n_loans desc) \n",
    " num_loans \n",
    "GROUP BY num_loans.n_loans\n",
    "\n",
    "\"\"\"\n",
    "\n",
    "df = sqlio.read_sql_query(sql, conn)\n",
    "df = df.set_index('n_loans')\n",
    "conn.close()\n",
    "df.head()\n",
    "df.plot.bar(figsize=(15,10), rot = 0)"
   ]
  },
  {
   "cell_type": "markdown",
   "metadata": {},
   "source": [
    "### Distribution of loans on currency"
   ]
  },
  {
   "cell_type": "code",
   "execution_count": null,
   "metadata": {},
   "outputs": [],
   "source": [
    "conn = getConnection()\n",
    "\n",
    "sql = \"\"\"\n",
    "SELECT p.currency ,SUM(s.loan_amount)    \n",
    "FROM sale s, product p    \n",
    "WHERE p.product_key = s.product_key   \n",
    "GROUP BY  p.currency; \n",
    "\"\"\"\n",
    "\n",
    "df = sqlio.read_sql_query(sql, conn)\n",
    "conn.close()\n",
    "df = df.set_index('currency')\n",
    "df.head()\n",
    "\n",
    "df.plot.bar(figsize=(15,10), rot = 0)\n"
   ]
  },
  {
   "cell_type": "markdown",
   "metadata": {},
   "source": [
    "### Distribution loans in region"
   ]
  },
  {
   "cell_type": "code",
   "execution_count": null,
   "metadata": {},
   "outputs": [],
   "source": [
    "conn = getConnection()\n",
    "\n",
    "sql = \"\"\"\n",
    "select * from (\n",
    "SELECT b.region ,SUM(s.loan_amount)    \n",
    "FROM sale s, branch b, product p    \n",
    "WHERE s.branch_key = b.branch_key AND p.product_key = s.product_key   \n",
    "GROUP BY  b.region) aaaa\n",
    "; \n",
    "\"\"\"\n",
    "\n",
    "df = sqlio.read_sql_query(sql, conn)\n",
    "conn.close()\n",
    "df = df.set_index('region')\n",
    "df.head()\n",
    "\n",
    "df.plot.bar(figsize=(15,10), rot = 0)\n",
    "#display(df)\n"
   ]
  },
  {
   "cell_type": "markdown",
   "metadata": {},
   "source": [
    "### distribuition of loans by province"
   ]
  },
  {
   "cell_type": "code",
   "execution_count": null,
   "metadata": {},
   "outputs": [],
   "source": [
    "conn = getConnection()\n",
    "\n",
    "sql = \"\"\"\n",
    "select * from (\n",
    "SELECT b.province ,SUM(s.loan_amount)    \n",
    "FROM sale s, branch b, product p    \n",
    "WHERE s.branch_key = b.branch_key AND p.product_key = s.product_key   \n",
    "GROUP BY  b.province\n",
    ") aaaa\n",
    "; \n",
    "\"\"\"\n",
    "\n",
    "df = sqlio.read_sql_query(sql, conn)\n",
    "conn.close()\n",
    "df = df.set_index('province')\n",
    "df.head()\n",
    "\n",
    "df.plot.bar(figsize=(15,10), rot = 0)\n",
    "#display(df)\n"
   ]
  },
  {
   "cell_type": "markdown",
   "metadata": {},
   "source": [
    "### distribuition of loans by province in 2018,2019"
   ]
  },
  {
   "cell_type": "code",
   "execution_count": null,
   "metadata": {},
   "outputs": [],
   "source": [
    "conn = getConnection()\n",
    "\n",
    "sql = \"\"\"\n",
    "WITH p_y_data AS (\n",
    "SELECT b.province , d.year, SUM(s.loan_amount) as loan_amount\n",
    "FROM sale s, branch b, date d  \n",
    "WHERE s.branch_key = b.branch_key AND s.sale_date_key = d.date_key\n",
    "GROUP BY  b.province, d.year) \n",
    "select a.province, a.loan_amount AS year_2018, b.loan_amount AS year_2019 from p_y_data a,   p_y_data b\n",
    " where a.year = 2018 AND b.year = 2019 AND\n",
    " a.province = b.province\n",
    "; \n",
    "\"\"\"\n",
    "\n",
    "df = sqlio.read_sql_query(sql, conn)\n",
    "conn.close()\n",
    "df = df.set_index('province')\n",
    "df.head()\n",
    "\n",
    "df.plot.bar(figsize=(15,10), rot = 0,colormap='Dark2')\n",
    "#display(df)\n"
   ]
  },
  {
   "cell_type": "markdown",
   "metadata": {},
   "source": [
    "### Cumilative Sale"
   ]
  },
  {
   "cell_type": "code",
   "execution_count": null,
   "metadata": {},
   "outputs": [],
   "source": [
    "conn = getConnection()\n",
    "\n",
    "sql = \"\"\"\n",
    "SELECT date, sum(sale.loan_amount) OVER (ORDER BY date) FROM sale, date\n",
    "where sale.sale_date_key = date.date_key\n",
    ";\n",
    "\"\"\"\n",
    "\n",
    "df = sqlio.read_sql_query(sql, conn)\n",
    "\n",
    "\n",
    "conn.close()\n",
    "df.head()\n",
    "df.plot(kind='line',x='date',figsize=(15,10))"
   ]
  },
  {
   "cell_type": "markdown",
   "metadata": {},
   "source": [
    "### Sale/employee ratio in provinces"
   ]
  },
  {
   "cell_type": "code",
   "execution_count": null,
   "metadata": {},
   "outputs": [],
   "source": [
    "conn = getConnection()\n",
    "\n",
    "sql = \"\"\"\n",
    "SELECT b.province , (SUM(s.loan_amount)/SUM(b.num_employee)) as loan_per_employee\n",
    "FROM sale s, branch b, date d  \n",
    "WHERE s.branch_key = b.branch_key AND s.sale_date_key = d.date_key\n",
    "GROUP BY  b.province\n",
    "; \n",
    "\"\"\"\n",
    "\n",
    "df = sqlio.read_sql_query(sql, conn)\n",
    "conn.close()\n",
    "df = df.set_index('province')\n",
    "df.head()\n",
    "\n",
    "df.plot.bar(figsize=(15,10), rot = 0,colormap='Dark2')\n",
    "#display(df)\n"
   ]
  },
  {
   "cell_type": "markdown",
   "metadata": {},
   "source": [
    "### Interest per employee by province"
   ]
  },
  {
   "cell_type": "code",
   "execution_count": null,
   "metadata": {},
   "outputs": [],
   "source": [
    "conn = getConnection()\n",
    "\n",
    "sql = \"\"\"\n",
    "SELECT  b.province , SUM(i.interest)/SUM(b.num_employee) AS \"interest income/employee\"\n",
    "FROM installment i, branch b\n",
    "WHERE i.sale_branch_key = b.branch_key\n",
    "GROUP BY  b.province\n",
    "\"\"\"\n",
    "\n",
    "df = sqlio.read_sql_query(sql, conn)\n",
    "df = df.set_index('province')\n",
    "df.head()\n",
    "conn.close()\n",
    "df.plot(kind=\"bar\",figsize=(15,10), rot = 0, colormap='Dark2')\n"
   ]
  },
  {
   "cell_type": "markdown",
   "metadata": {},
   "source": [
    "### Decalage"
   ]
  },
  {
   "cell_type": "code",
   "execution_count": null,
   "metadata": {},
   "outputs": [],
   "source": [
    "conn = getConnection()\n",
    "\n",
    "sql = \"\"\"\n",
    "select d.year,  sum(residual_capital) as \"residual capital\"\n",
    "  from installment  i\n",
    "  join \"date\" d on i.due_date_key = d.date_key\n",
    "  group by d.year\n",
    "  order by d.year\n",
    ";\n",
    "\"\"\"\n",
    "\n",
    "df = sqlio.read_sql_query(sql, conn)\n",
    "df['year'] = pd.to_datetime(df['year'], format='%Y')\n",
    "\n",
    "df = df.set_index('year')\n",
    "\n",
    "conn.close()\n",
    "df.head()\n",
    "df.plot(kind='line',figsize=(15,10))\n"
   ]
  },
  {
   "cell_type": "markdown",
   "metadata": {},
   "source": [
    "### Total interest by year"
   ]
  },
  {
   "cell_type": "code",
   "execution_count": null,
   "metadata": {
    "scrolled": false
   },
   "outputs": [],
   "source": [
    "conn = getConnection()\n",
    "\n",
    "sql = \"\"\"\n",
    "select d.year,  sum(interest) AS \"interests\" \n",
    "  from installment  i\n",
    "  join \"date\" d on i.due_date_key = d.date_key\n",
    "  group by d.year\n",
    "  order by d.year\n",
    ";\n",
    "\"\"\"\n",
    "\n",
    "df = sqlio.read_sql_query(sql, conn)\n",
    "df['year'] = pd.to_datetime(df['year'], format='%Y')\n",
    "\n",
    "df = df.set_index('year')\n",
    "\n",
    "conn.close()\n",
    "df.head()\n",
    "df.plot(kind='line',figsize=(15,10), colormap='Dark2')\n"
   ]
  },
  {
   "cell_type": "code",
   "execution_count": null,
   "metadata": {},
   "outputs": [],
   "source": []
  }
 ],
 "metadata": {
  "kernelspec": {
   "display_name": "Python 3",
   "language": "python",
   "name": "python3"
  },
  "language_info": {
   "codemirror_mode": {
    "name": "ipython",
    "version": 3
   },
   "file_extension": ".py",
   "mimetype": "text/x-python",
   "name": "python",
   "nbconvert_exporter": "python",
   "pygments_lexer": "ipython3",
   "version": "3.7.6"
  }
 },
 "nbformat": 4,
 "nbformat_minor": 2
}
