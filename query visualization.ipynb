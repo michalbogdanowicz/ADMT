{
 "cells": [
  {
   "cell_type": "code",
   "execution_count": 8,
   "metadata": {},
   "outputs": [],
   "source": [
    "import pandas as pd\n",
    "import pandas.io.sql as sqlio\n",
    "import psycopg2\n",
    "import matplotlib.pyplot as plt\n",
    "import seaborn as sns\n",
    "sns.set(font_scale=1.5, style=\"whitegrid\")\n",
    "from matplotlib.ticker import (MultipleLocator, FormatStrFormatter,AutoMinorLocator)\n",
    "from matplotlib.dates import DateFormatter\n",
    "import matplotlib.dates as mdates\n",
    "import numpy as np"
   ]
  },
  {
   "cell_type": "code",
   "execution_count": 13,
   "metadata": {},
   "outputs": [],
   "source": [
    "conn = psycopg2.connect(host=\"alcor.inf.unibz.it\", database=\"admt_g01\", user=\"admt_g01\", password=\"3BckDwAj\", port = 5433)"
   ]
  },
  {
   "cell_type": "code",
   "execution_count": 10,
   "metadata": {},
   "outputs": [
    {
     "data": {
      "text/html": [
       "<div>\n",
       "<style scoped>\n",
       "    .dataframe tbody tr th:only-of-type {\n",
       "        vertical-align: middle;\n",
       "    }\n",
       "\n",
       "    .dataframe tbody tr th {\n",
       "        vertical-align: top;\n",
       "    }\n",
       "\n",
       "    .dataframe thead th {\n",
       "        text-align: right;\n",
       "    }\n",
       "</style>\n",
       "<table border=\"1\" class=\"dataframe\">\n",
       "  <thead>\n",
       "    <tr style=\"text-align: right;\">\n",
       "      <th></th>\n",
       "      <th>customer_key</th>\n",
       "      <th>branch_key</th>\n",
       "      <th>installment_key</th>\n",
       "      <th>payment_date_key</th>\n",
       "      <th>paid_amount</th>\n",
       "    </tr>\n",
       "  </thead>\n",
       "  <tbody>\n",
       "    <tr>\n",
       "      <th>0</th>\n",
       "      <td>1603</td>\n",
       "      <td>35</td>\n",
       "      <td>1</td>\n",
       "      <td>89</td>\n",
       "      <td>3809.842482</td>\n",
       "    </tr>\n",
       "    <tr>\n",
       "      <th>1</th>\n",
       "      <td>1603</td>\n",
       "      <td>35</td>\n",
       "      <td>2</td>\n",
       "      <td>180</td>\n",
       "      <td>3809.842482</td>\n",
       "    </tr>\n",
       "    <tr>\n",
       "      <th>2</th>\n",
       "      <td>1603</td>\n",
       "      <td>35</td>\n",
       "      <td>3</td>\n",
       "      <td>272</td>\n",
       "      <td>3809.842482</td>\n",
       "    </tr>\n",
       "    <tr>\n",
       "      <th>3</th>\n",
       "      <td>1603</td>\n",
       "      <td>35</td>\n",
       "      <td>4</td>\n",
       "      <td>364</td>\n",
       "      <td>3809.842482</td>\n",
       "    </tr>\n",
       "    <tr>\n",
       "      <th>4</th>\n",
       "      <td>1603</td>\n",
       "      <td>35</td>\n",
       "      <td>5</td>\n",
       "      <td>454</td>\n",
       "      <td>3809.842482</td>\n",
       "    </tr>\n",
       "  </tbody>\n",
       "</table>\n",
       "</div>"
      ],
      "text/plain": [
       "   customer_key  branch_key  installment_key  payment_date_key  paid_amount\n",
       "0          1603          35                1                89  3809.842482\n",
       "1          1603          35                2               180  3809.842482\n",
       "2          1603          35                3               272  3809.842482\n",
       "3          1603          35                4               364  3809.842482\n",
       "4          1603          35                5               454  3809.842482"
      ]
     },
     "execution_count": 10,
     "metadata": {},
     "output_type": "execute_result"
    }
   ],
   "source": [
    "sql = \"SELECT * FROM public.payment \"\n",
    "\n",
    "df = sqlio.read_sql_query(sql, conn)\n",
    "df.head()"
   ]
  },
  {
   "cell_type": "code",
   "execution_count": null,
   "metadata": {},
   "outputs": [],
   "source": [
    "sql = \"SELECT * FROM perc_npl_headcount;\"\n",
    "sql2 = \"SELECT * FROM perc_npl;\"\n",
    "df = sqlio.read_sql_query(sql, conn)\n",
    "df2 =  sqlio.read_sql_query(sql2, conn)\n",
    "\n",
    "plt.bar( df.prov, df.perc_npl_headcount,alpha=0.5,  label='NPL % headcount', align='center')  #edge \n",
    "plt.bar( df2.prov, df2.perc_npl,alpha=0.7,  label='NPL % volume') \n",
    "\n",
    "plt.legend()\n",
    "plt.show()"
   ]
  },
  {
   "cell_type": "code",
   "execution_count": 14,
   "metadata": {},
   "outputs": [
    {
     "data": {
      "text/html": [
       "<div>\n",
       "<style scoped>\n",
       "    .dataframe tbody tr th:only-of-type {\n",
       "        vertical-align: middle;\n",
       "    }\n",
       "\n",
       "    .dataframe tbody tr th {\n",
       "        vertical-align: top;\n",
       "    }\n",
       "\n",
       "    .dataframe thead th {\n",
       "        text-align: right;\n",
       "    }\n",
       "</style>\n",
       "<table border=\"1\" class=\"dataframe\">\n",
       "  <thead>\n",
       "    <tr style=\"text-align: right;\">\n",
       "      <th></th>\n",
       "      <th>month</th>\n",
       "      <th>round</th>\n",
       "      <th>round</th>\n",
       "    </tr>\n",
       "  </thead>\n",
       "  <tbody>\n",
       "  </tbody>\n",
       "</table>\n",
       "</div>"
      ],
      "text/plain": [
       "Empty DataFrame\n",
       "Columns: [month, round, round]\n",
       "Index: []"
      ]
     },
     "execution_count": 14,
     "metadata": {},
     "output_type": "execute_result"
    }
   ],
   "source": [
    "sql = \"\"\"SELECT iq_2017.month, ROUND(iq_2017.fees::numeric,2),  ROUND(iq_2018.fees::numeric,2) \n",
    "\n",
    "FROM  \n",
    "\n",
    "(SELECT d.month, AVG(s.fees) AS fees \n",
    "\n",
    "FROM public.\"date\" d, sale s \n",
    "\n",
    "WHERE d.date_key = s.sale_date_key AND d.year = 2017 \n",
    "\n",
    "group by d.month) as iq_2017, \n",
    "\n",
    "(SELECT d.month, AVG(s.fees) AS fees \n",
    "\n",
    "FROM public.\"date\" d, sale s \n",
    "\n",
    "WHERE d.date_key = s.sale_date_key AND d.year = 2018 \n",
    "\n",
    "GROUP BY d.month) as iq_2018 \n",
    "\n",
    "WHERE iq_2017.month = iq_2018.month \n",
    "\n",
    "ORDER BY iq_2018.month\"\"\" \n",
    "\n",
    "df = sqlio.read_sql_query(sql, conn)\n",
    "df.head()"
   ]
  },
  {
   "cell_type": "code",
   "execution_count": null,
   "metadata": {},
   "outputs": [],
   "source": []
  }
 ],
 "metadata": {
  "kernelspec": {
   "display_name": "Python 3",
   "language": "python",
   "name": "python3"
  },
  "language_info": {
   "codemirror_mode": {
    "name": "ipython",
    "version": 3
   },
   "file_extension": ".py",
   "mimetype": "text/x-python",
   "name": "python",
   "nbconvert_exporter": "python",
   "pygments_lexer": "ipython3",
   "version": "3.7.5"
  }
 },
 "nbformat": 4,
 "nbformat_minor": 4
}
